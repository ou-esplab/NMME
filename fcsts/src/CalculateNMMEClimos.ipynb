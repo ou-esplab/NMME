{
 "cells": [
  {
   "cell_type": "code",
   "execution_count": 1,
   "id": "8a7a6faa-aaeb-480b-ae3c-5a6522e0e5cb",
   "metadata": {},
   "outputs": [],
   "source": [
    "import xarray as xr\n",
    "#import numpy as np\n",
    "#import pandas as pd\n",
    "\n",
    "#import os.path\n",
    "#from datetime import datetime, timedelta, date\n",
    "#import time\n",
    "\n",
    "import matplotlib.pyplot as plt\n",
    "from nmme_utils import *"
   ]
  },
  {
   "cell_type": "code",
   "execution_count": 2,
   "id": "bf199d6d-8450-40dc-8838-658ee97c19b2",
   "metadata": {},
   "outputs": [],
   "source": [
    "# Eliminate Warnings\n",
    "import warnings\n",
    "warnings.filterwarnings(\"ignore\")"
   ]
  },
  {
   "cell_type": "code",
   "execution_count": 3,
   "id": "4f447f8f-5b62-45ae-8b90-1a25c2892ef6",
   "metadata": {},
   "outputs": [
    {
     "data": {
      "text/plain": [
       "<xarray.core.options.set_options at 0x7f0f870a8250>"
      ]
     },
     "execution_count": 3,
     "metadata": {},
     "output_type": "execute_result"
    }
   ],
   "source": [
    "# Set xarray to keep attributes\n",
    "xr.set_options(keep_attrs=True)  "
   ]
  },
  {
   "cell_type": "code",
   "execution_count": 4,
   "id": "1f1f5d4d-4fcf-442d-8b4a-f544f507a873",
   "metadata": {},
   "outputs": [],
   "source": [
    "def is_month(month):\n",
    "   return (month == 6)"
   ]
  },
  {
   "cell_type": "markdown",
   "id": "fa386478-f14d-49a3-95e4-238c046f9947",
   "metadata": {},
   "source": [
    "## Models and Forecast Settings"
   ]
  },
  {
   "cell_type": "code",
   "execution_count": 5,
   "id": "d62762b6-7ffb-436c-b623-8b5240851869",
   "metadata": {},
   "outputs": [],
   "source": [
    "models_list,_,_,_=initModels()"
   ]
  },
  {
   "cell_type": "markdown",
   "id": "e16edcb0-8bf6-43bd-bbc6-bd2143282c10",
   "metadata": {},
   "source": [
    "## File Paths"
   ]
  },
  {
   "cell_type": "code",
   "execution_count": 6,
   "id": "31c86240-ad4b-4820-b1d5-a563863d7be8",
   "metadata": {},
   "outputs": [],
   "source": [
    "url='http://iridl.ldeo.columbia.edu/SOURCES/.Models/.NMME'"
   ]
  },
  {
   "cell_type": "markdown",
   "id": "49fea246-3bd0-4153-aa65-c1951c89bd69",
   "metadata": {},
   "source": [
    "### Make a nmme_fcst `xarray.Dataset` containing all models + MME for months 1-9"
   ]
  },
  {
   "cell_type": "code",
   "execution_count": 7,
   "id": "40cae8cf-2694-4d04-bbf1-52066111fac7",
   "metadata": {},
   "outputs": [
    {
     "name": "stdout",
     "output_type": "stream",
     "text": [
      "PROCESSING CLIMOS FOR: \n",
      "===>  NCEP-CFSv2\n",
      "sst sfc\n",
      "Calling getClimDataViaIngrid\n",
      "http://iridl.ldeo.columbia.edu/SOURCES/.Models/.NMME/.NCEP-CFSv2/.FORECAST/.EARLY_MONTH_SAMPLES/.MONTHLY/.sst/[M]average/dods\n",
      "Returning getClimDataViaIngrid\n",
      "SETTING COORDS\n",
      "<xarray.Dataset>\n",
      "Dimensions:  (lat: 181, lead: 10, S: 360, lon: 360)\n",
      "Coordinates:\n",
      "  * lat      (lat) float32 -90.0 -89.0 -88.0 -87.0 -86.0 ... 87.0 88.0 89.0 90.0\n",
      "  * lead     (lead) int64 0 1 2 3 4 5 6 7 8 9\n",
      "  * S        (S) datetime64[ns] 1991-01-01 1991-02-01 ... 2020-11-01 2020-12-01\n",
      "  * lon      (lon) float32 0.0 1.0 2.0 3.0 4.0 ... 355.0 356.0 357.0 358.0 359.0\n",
      "Data variables:\n",
      "    sst      (S, lead, lat, lon) float64 dask.array<chunksize=(82, 10, 119, 119), meta=np.ndarray>\n",
      "Attributes:\n",
      "    Conventions:  IRIDL\n",
      "Calcualting CLIM\n",
      "DONE Calculating CLIM\n",
      "DONE SETTING COORDS\n",
      "/mcs/scratch/kpegion/nmme/climatology/monthly/1991-2020/NCEP-CFSv2.sst_sfc.clim.1991-2020.nc\n",
      "<xarray.Dataset>\n",
      "Dimensions:  (lat: 181, lead: 10, lon: 360, month: 12)\n",
      "Coordinates:\n",
      "  * lat      (lat) float32 -90.0 -89.0 -88.0 -87.0 -86.0 ... 87.0 88.0 89.0 90.0\n",
      "  * lead     (lead) int64 0 1 2 3 4 5 6 7 8 9\n",
      "  * lon      (lon) float32 0.0 1.0 2.0 3.0 4.0 ... 355.0 356.0 357.0 358.0 359.0\n",
      "  * month    (month) int64 1 2 3 4 5 6 7 8 9 10 11 12\n",
      "Data variables:\n",
      "    sst      (month, lead, lat, lon) float64 dask.array<chunksize=(1, 10, 119, 119), meta=np.ndarray>\n",
      "Attributes:\n",
      "    Conventions:  IRIDL\n",
      "WRITING CLIMATOLOGY\n"
     ]
    }
   ],
   "source": [
    "print('PROCESSING CLIMOS FOR: ')\n",
    "\n",
    "# Loop over all the Models\n",
    "for imodel,nmme_model in enumerate(models_list):\n",
    "    \n",
    "    # Get the model, group, variables, and levels from the dictionary \n",
    "    varnames=nmme_model['varnames']\n",
    "    levstrs=nmme_model['levstrs']\n",
    "    model=nmme_model['model']\n",
    "    group=nmme_model['group']\n",
    "    \n",
    "    print('===> ',model)\n",
    "    \n",
    "    # Loop over variables for this model\n",
    "    for varname,levstr in zip(varnames,levstrs):\n",
    "        \n",
    "        print(varname,levstr)\n",
    "        ofname='/mcs/scratch/kpegion/nmme/climatology/monthly/1991-2020/'+model+'.'+varname+'_'+levstr+'.clim.1991-2020.nc'\n",
    "\n",
    "        # Read Data\n",
    "        if group == \"\":\n",
    "            if (model=='COLA-RSMAS-CCSM4'):\n",
    "                hcstURL=url+'/.'+model+'/.MONTHLY'+'/.'+varname \n",
    "                fcstURL=url+'/.'+model+'/.MONTHLY'+'/.'+varname\n",
    "            elif (model=='NCEP-CFSv2'):\n",
    "                hcstURL=url+'/.'+model+'/.HINDCAST/.PENTAD_SAMPLES/.MONTHLY/.'+varname \n",
    "                fcstURL=url+'/.'+model+'/.FORECAST/.EARLY_MONTH_SAMPLES/.MONTHLY/.'+varname\n",
    "            else:\n",
    "                hcstURL=url+'/.'+model+'/.HINDCAST/.MONTHLY'+'/.'+varname\n",
    "                fcstURL=url+'/.'+model+'/.FORECAST/.MONTHLY'+'/.'+varname\n",
    "        else:\n",
    "            hcstURL=url+'/.'+group+'/.'+model+'/.HINDCAST/.MONTHLY'+'/.'+varname\n",
    "            fcstURL=url+'/.'+group+'/.'+model+'/.FORECAST/.MONTHLY'+'/.'+varname\n",
    "         \n",
    "        # Get Subsetted Data Using Ingrid\n",
    "        print(\"Calling getClimDataViaIngrid\")\n",
    "        ds,ds_hcst,ds_fcst=getClimDataViaIngrid(hcstURL,fcstURL)\n",
    "        print(\"Returning getClimDataViaIngrid\")\n",
    "\n",
    "        # Rename and clean up coordinates\n",
    "        print(\"SETTING COORDS\")\n",
    "        ds['L'] = (ds['L'] - 0.5).astype('int')\n",
    "        ds=ds.rename({'X':'lon','Y':'lat','L':'lead'})  \n",
    "        ds['lead'].attrs = {'units': 'months'}\n",
    "        ds['lon'].attrs['units']='degrees_east'\n",
    "        ds['lat'].attrs['units']='degrees_north'\n",
    "        print(ds)\n",
    "        #if ('Z' in ds_clim.dims):\n",
    "        #    ds_clim=ds_clim.drop('Z')\n",
    "        \n",
    "        # Calculate Climos\n",
    "        print(\"Calcualting CLIM\")\n",
    "        ds_clim=ds.groupby('S.month').mean()\n",
    "        print(\"DONE Calculating CLIM\")\n",
    "        \n",
    "        print(\"DONE SETTING COORDS\")\n",
    "        print(ofname)\n",
    "        print(ds_clim)\n",
    "        \n",
    "        print(\"WRITING CLIMATOLOGY\")\n",
    "        ds_clim.to_netcdf(ofname)\n",
    " "
   ]
  }
 ],
 "metadata": {
  "kernelspec": {
   "display_name": "Python (subx)",
   "language": "python",
   "name": "subx"
  },
  "language_info": {
   "codemirror_mode": {
    "name": "ipython",
    "version": 3
   },
   "file_extension": ".py",
   "mimetype": "text/x-python",
   "name": "python",
   "nbconvert_exporter": "python",
   "pygments_lexer": "ipython3",
   "version": "3.10.8"
  }
 },
 "nbformat": 4,
 "nbformat_minor": 5
}
